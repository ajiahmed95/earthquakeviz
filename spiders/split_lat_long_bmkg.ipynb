{
 "cells": [
  {
   "cell_type": "code",
   "execution_count": 23,
   "id": "506305b4",
   "metadata": {},
   "outputs": [],
   "source": [
    "import pandas as pd\n",
    "import csv\n",
    "import re"
   ]
  },
  {
   "cell_type": "code",
   "execution_count": 5,
   "id": "6fd57420",
   "metadata": {},
   "outputs": [
    {
     "name": "stdout",
     "output_type": "stream",
     "text": [
      "  Waktu Gempa    Lintang - Bujur  Magnitudo Kedalaman  \\\n",
      "0  07/03/2023   6.47 LS 103.9 BT        5.3     10 Km   \n",
      "1  07/03/2023  0.11 LS 120.32 BT        4.6      5 Km   \n",
      "2  06/03/2023  2.46 LS 140.72 BT        2.7     10 Km   \n",
      "3  06/03/2023  0.15 LS 123.14 BT        4.5    132 Km   \n",
      "4  05/03/2023   2.7 LS 140.01 BT        4.4     50 Km   \n",
      "\n",
      "                               Dirasakan (Skala MMI)  \n",
      "0  Pusat gempa berada dilaut 140 Km BaratDaya Tan...  \n",
      "1  Pusat gempa berada di laut 30 km Tenggara Pari...  \n",
      "2  Pusat gempa berada di laut 8 km timur laut Kot...  \n",
      "3  Pusat gempa berada di laut 76 km Tenggara Bone...  \n",
      "4  Pusat gempa berada di darat 46 km BaratDaya Ka...  \n"
     ]
    }
   ],
   "source": [
    "df = pd.read_csv(\"C:/Users/Ardi/scrapy/bmkg_di/spiders/earthquake_data.csv\")\n",
    "print(df.head())"
   ]
  },
  {
   "cell_type": "code",
   "execution_count": 18,
   "id": "9308267b",
   "metadata": {},
   "outputs": [
    {
     "name": "stdout",
     "output_type": "stream",
     "text": [
      "0      6.47 103.9\n",
      "1     0.11 120.32\n",
      "2     2.46 140.72\n",
      "3     0.15 123.14\n",
      "4      2.7 140.01\n",
      "5     2.53 140.67\n",
      "6     2.67 121.98\n",
      "7     2.49 140.73\n",
      "8     0.42 123.01\n",
      "9     7.69 106.52\n",
      "10     3.8 101.83\n",
      "11    2.48 140.71\n",
      "12     1.27 120.2\n",
      "13    2.42 128.39\n",
      "14    1.65 100.71\n",
      "15    2.91 119.37\n",
      "16    2.94 119.36\n",
      "17    2.47 140.67\n",
      "18    1.37 125.83\n",
      "19    7.03 106.64\n",
      "Name: Lintang - Bujur, dtype: object\n"
     ]
    }
   ],
   "source": [
    "df['Lintang - Bujur'] = df['Lintang - Bujur'].str.replace(' LS', '').str.replace(' BT', '').str.replace(' LU', '')\n",
    "print(df['Lintang - Bujur'])"
   ]
  },
  {
   "cell_type": "code",
   "execution_count": 22,
   "id": "6c1bed38",
   "metadata": {},
   "outputs": [
    {
     "name": "stdout",
     "output_type": "stream",
     "text": [
      "   Waktu Gempa Lintang - Bujur  Magnitudo Kedalaman  \\\n",
      "0   07/03/2023      6.47 103.9        5.3     10 Km   \n",
      "1   07/03/2023     0.11 120.32        4.6      5 Km   \n",
      "2   06/03/2023     2.46 140.72        2.7     10 Km   \n",
      "3   06/03/2023     0.15 123.14        4.5    132 Km   \n",
      "4   05/03/2023      2.7 140.01        4.4     50 Km   \n",
      "5   05/03/2023     2.53 140.67        3.0     10 Km   \n",
      "6   05/03/2023     2.67 121.98        4.8      5 Km   \n",
      "7   04/03/2023     2.49 140.73        2.7      7 Km   \n",
      "8   03/03/2023     0.42 123.01        4.9     52 Km   \n",
      "9   03/03/2023     7.69 106.52        3.8     27 Km   \n",
      "10  03/03/2023      3.8 101.83        5.1     12 Km   \n",
      "11  03/03/2023     2.48 140.71        2.6     10 Km   \n",
      "12  02/03/2023      1.27 120.2        4.8      8 Km   \n",
      "13  02/03/2023     2.42 128.39        4.8     50 Km   \n",
      "14  02/03/2023     1.65 100.71        5.6     82 Km   \n",
      "15  01/03/2023     2.91 119.37        1.6      3 Km   \n",
      "16  01/03/2023     2.94 119.36        2.3      8 Km   \n",
      "17  01/03/2023     2.47 140.67        3.5     10 Km   \n",
      "18  28/02/2023     1.37 125.83        4.9     55 Km   \n",
      "19  28/02/2023     7.03 106.64        4.0      3 Km   \n",
      "\n",
      "                                Dirasakan (Skala MMI)  Latitude  Longitude  \n",
      "0   Pusat gempa berada dilaut 140 Km BaratDaya Tan...      6.47     103.90  \n",
      "1   Pusat gempa berada di laut 30 km Tenggara Pari...      0.11     120.32  \n",
      "2   Pusat gempa berada di laut 8 km timur laut Kot...      2.46     140.72  \n",
      "3   Pusat gempa berada di laut 76 km Tenggara Bone...      0.15     123.14  \n",
      "4   Pusat gempa berada di darat 46 km BaratDaya Ka...      2.70     140.01  \n",
      "5   Pusat gempa berada di darat 5 km barat laut Ko...      2.53     140.67  \n",
      "6   Pusat gempa berada di darat 3 km barat Kab. Mo...      2.67     121.98  \n",
      "7   Pusat gempa berada di laut 5 km TimurLaut Kota...      2.49     140.73  \n",
      "8        Pusat gempa berada di laut 64 km utara Luwuk      0.42     123.01  \n",
      "9   Pusat gempa berada di Laut 78 Km Barat Daya Ka...      7.69     106.52  \n",
      "10  Pusat gempa berada di laut 47 Km Barat Daya Be...      3.80     101.83  \n",
      "11  Pusat gempa berada di laut 6 km barat laut Kot...      2.48     140.71  \n",
      "12  Pusat gempa berada di laut 35 km utara Ogotua ...      1.27     120.20  \n",
      "13  Pusat gempa berada di darat 42 km TimurLaut Da...      2.42     128.39  \n",
      "14  Pusat gempa berada di darat 36 km Tenggara Pes...      1.65     100.71  \n",
      "15  Pusat gempa berada di darat 5 km TimurLaut Mamasa      2.91     119.37  \n",
      "16   Pusat gempa berada di darat 4 km tenggara Mamasa      2.94     119.36  \n",
      "17  Pusat gempa berada di laut 9 km BaratLaut Kota...      2.47     140.67  \n",
      "18   Pusat gempa berada di laut 79 km Tenggara Bitung      1.37     125.83  \n",
      "19  Pusat gempa berada di darat 11 km Tenggara Kab...      7.03     106.64  \n"
     ]
    }
   ],
   "source": [
    "# split data into two column (latitude longitude)\n",
    "df[['Latitude', 'Longitude']] = df['Lintang - Bujur'].str.strip().str.split(' ', expand=True)\n",
    "\n",
    "#change data to numeric\n",
    "df['Latitude'] = pd.to_numeric(df['Latitude'])\n",
    "df['Longitude'] = pd.to_numeric(df['Longitude'])\n",
    "\n",
    "# print the resulting dataframe\n",
    "print(df)"
   ]
  },
  {
   "cell_type": "code",
   "execution_count": null,
   "id": "52ba6225",
   "metadata": {},
   "outputs": [],
   "source": []
  }
 ],
 "metadata": {
  "kernelspec": {
   "display_name": "Python 3 (ipykernel)",
   "language": "python",
   "name": "python3"
  },
  "language_info": {
   "codemirror_mode": {
    "name": "ipython",
    "version": 3
   },
   "file_extension": ".py",
   "mimetype": "text/x-python",
   "name": "python",
   "nbconvert_exporter": "python",
   "pygments_lexer": "ipython3",
   "version": "3.9.13"
  }
 },
 "nbformat": 4,
 "nbformat_minor": 5
}
